{
 "cells": [
  {
   "cell_type": "code",
   "execution_count": 1,
   "id": "6e48f5b2",
   "metadata": {},
   "outputs": [],
   "source": [
    "#20BHI10028 - TUSHAR MISRA\n",
    "from sklearn.cluster import KMeans\n",
    "import pandas as pd\n",
    "from sklearn.preprocessing import MinMaxScaler\n",
    "from matplotlib import pyplot as plt\n",
    "%matplotlib inline"
   ]
  },
  {
   "cell_type": "code",
   "execution_count": 2,
   "id": "a2089f07",
   "metadata": {},
   "outputs": [
    {
     "data": {
      "text/html": [
       "<div>\n",
       "<style scoped>\n",
       "    .dataframe tbody tr th:only-of-type {\n",
       "        vertical-align: middle;\n",
       "    }\n",
       "\n",
       "    .dataframe tbody tr th {\n",
       "        vertical-align: top;\n",
       "    }\n",
       "\n",
       "    .dataframe thead th {\n",
       "        text-align: right;\n",
       "    }\n",
       "</style>\n",
       "<table border=\"1\" class=\"dataframe\">\n",
       "  <thead>\n",
       "    <tr style=\"text-align: right;\">\n",
       "      <th></th>\n",
       "      <th>price</th>\n",
       "      <th>bedrooms</th>\n",
       "      <th>bathrooms</th>\n",
       "      <th>sqft_living</th>\n",
       "      <th>sqft_lot</th>\n",
       "      <th>floors</th>\n",
       "      <th>condition</th>\n",
       "      <th>sqft_above</th>\n",
       "      <th>sqft_basement</th>\n",
       "      <th>yr_built</th>\n",
       "      <th>yr_renovated</th>\n",
       "    </tr>\n",
       "  </thead>\n",
       "  <tbody>\n",
       "    <tr>\n",
       "      <th>0</th>\n",
       "      <td>313000</td>\n",
       "      <td>3</td>\n",
       "      <td>1.50</td>\n",
       "      <td>1340</td>\n",
       "      <td>7912</td>\n",
       "      <td>1.5</td>\n",
       "      <td>3</td>\n",
       "      <td>1340</td>\n",
       "      <td>0</td>\n",
       "      <td>1955</td>\n",
       "      <td>2005</td>\n",
       "    </tr>\n",
       "    <tr>\n",
       "      <th>1</th>\n",
       "      <td>2384000</td>\n",
       "      <td>5</td>\n",
       "      <td>2.50</td>\n",
       "      <td>3650</td>\n",
       "      <td>9050</td>\n",
       "      <td>2.0</td>\n",
       "      <td>5</td>\n",
       "      <td>3370</td>\n",
       "      <td>280</td>\n",
       "      <td>1921</td>\n",
       "      <td>0</td>\n",
       "    </tr>\n",
       "    <tr>\n",
       "      <th>2</th>\n",
       "      <td>342000</td>\n",
       "      <td>3</td>\n",
       "      <td>2.00</td>\n",
       "      <td>1930</td>\n",
       "      <td>11947</td>\n",
       "      <td>1.0</td>\n",
       "      <td>4</td>\n",
       "      <td>1930</td>\n",
       "      <td>0</td>\n",
       "      <td>1966</td>\n",
       "      <td>0</td>\n",
       "    </tr>\n",
       "    <tr>\n",
       "      <th>3</th>\n",
       "      <td>420000</td>\n",
       "      <td>3</td>\n",
       "      <td>2.25</td>\n",
       "      <td>2000</td>\n",
       "      <td>8030</td>\n",
       "      <td>1.0</td>\n",
       "      <td>4</td>\n",
       "      <td>1000</td>\n",
       "      <td>1000</td>\n",
       "      <td>1963</td>\n",
       "      <td>0</td>\n",
       "    </tr>\n",
       "    <tr>\n",
       "      <th>4</th>\n",
       "      <td>550000</td>\n",
       "      <td>4</td>\n",
       "      <td>2.50</td>\n",
       "      <td>1940</td>\n",
       "      <td>10500</td>\n",
       "      <td>1.0</td>\n",
       "      <td>4</td>\n",
       "      <td>1140</td>\n",
       "      <td>800</td>\n",
       "      <td>1976</td>\n",
       "      <td>1992</td>\n",
       "    </tr>\n",
       "  </tbody>\n",
       "</table>\n",
       "</div>"
      ],
      "text/plain": [
       "     price  bedrooms  bathrooms  sqft_living  sqft_lot  floors  condition  \\\n",
       "0   313000         3       1.50         1340      7912     1.5          3   \n",
       "1  2384000         5       2.50         3650      9050     2.0          5   \n",
       "2   342000         3       2.00         1930     11947     1.0          4   \n",
       "3   420000         3       2.25         2000      8030     1.0          4   \n",
       "4   550000         4       2.50         1940     10500     1.0          4   \n",
       "\n",
       "   sqft_above  sqft_basement  yr_built  yr_renovated  \n",
       "0        1340              0      1955          2005  \n",
       "1        3370            280      1921             0  \n",
       "2        1930              0      1966             0  \n",
       "3        1000           1000      1963             0  \n",
       "4        1140            800      1976          1992  "
      ]
     },
     "execution_count": 2,
     "metadata": {},
     "output_type": "execute_result"
    }
   ],
   "source": [
    "df = pd.read_csv(\"data4.csv\")\n",
    "df.head()"
   ]
  },
  {
   "cell_type": "code",
   "execution_count": 3,
   "id": "aeb61b8b",
   "metadata": {},
   "outputs": [
    {
     "data": {
      "text/plain": [
       "Text(0, 0.5, 'price($)')"
      ]
     },
     "execution_count": 3,
     "metadata": {},
     "output_type": "execute_result"
    },
    {
     "data": {
      "image/png": "[encoded data removed]",
      "text/plain": [
       "<Figure size 432x288 with 1 Axes>"
      ]
     },
     "metadata": {
      "needs_background": "light"
     },
     "output_type": "display_data"
    }
   ],
   "source": [
    "plt.scatter(df.sqft_living,df['price'])\n",
    "plt.xlabel('sqft_living')\n",
    "plt.ylabel('price($)')"
   ]
  },
  {
   "cell_type": "code",
   "execution_count": 4,
   "id": "bac8cd47",
   "metadata": {},
   "outputs": [],
   "source": [
    "#Preprocessing using min max scaler\n",
    "\n",
    "scaler = MinMaxScaler()\n",
    "\n",
    "scaler.fit(df[['price']])\n",
    "df['price'] = scaler.transform(df[['price']])\n",
    "\n",
    "scaler.fit(df[['sqft_living']])\n",
    "df['sqft_living'] = scaler.transform(df[['sqft_living']])"
   ]
  },
  {
   "cell_type": "code",
   "execution_count": 5,
   "id": "73353afc",
   "metadata": {},
   "outputs": [
    {
     "data": {
      "text/html": [
       "<div>\n",
       "<style scoped>\n",
       "    .dataframe tbody tr th:only-of-type {\n",
       "        vertical-align: middle;\n",
       "    }\n",
       "\n",
       "    .dataframe tbody tr th {\n",
       "        vertical-align: top;\n",
       "    }\n",
       "\n",
       "    .dataframe thead th {\n",
       "        text-align: right;\n",
       "    }\n",
       "</style>\n",
       "<table border=\"1\" class=\"dataframe\">\n",
       "  <thead>\n",
       "    <tr style=\"text-align: right;\">\n",
       "      <th></th>\n",
       "      <th>price</th>\n",
       "      <th>bedrooms</th>\n",
       "      <th>bathrooms</th>\n",
       "      <th>sqft_living</th>\n",
       "      <th>sqft_lot</th>\n",
       "      <th>floors</th>\n",
       "      <th>condition</th>\n",
       "      <th>sqft_above</th>\n",
       "      <th>sqft_basement</th>\n",
       "      <th>yr_built</th>\n",
       "      <th>yr_renovated</th>\n",
       "    </tr>\n",
       "  </thead>\n",
       "  <tbody>\n",
       "    <tr>\n",
       "      <th>0</th>\n",
       "      <td>0.049128</td>\n",
       "      <td>3</td>\n",
       "      <td>1.50</td>\n",
       "      <td>0.152542</td>\n",
       "      <td>7912</td>\n",
       "      <td>1.5</td>\n",
       "      <td>3</td>\n",
       "      <td>1340</td>\n",
       "      <td>0</td>\n",
       "      <td>1955</td>\n",
       "      <td>2005</td>\n",
       "    </tr>\n",
       "    <tr>\n",
       "      <th>1</th>\n",
       "      <td>1.000000</td>\n",
       "      <td>5</td>\n",
       "      <td>2.50</td>\n",
       "      <td>0.805085</td>\n",
       "      <td>9050</td>\n",
       "      <td>2.0</td>\n",
       "      <td>5</td>\n",
       "      <td>3370</td>\n",
       "      <td>280</td>\n",
       "      <td>1921</td>\n",
       "      <td>0</td>\n",
       "    </tr>\n",
       "    <tr>\n",
       "      <th>2</th>\n",
       "      <td>0.062443</td>\n",
       "      <td>3</td>\n",
       "      <td>2.00</td>\n",
       "      <td>0.319209</td>\n",
       "      <td>11947</td>\n",
       "      <td>1.0</td>\n",
       "      <td>4</td>\n",
       "      <td>1930</td>\n",
       "      <td>0</td>\n",
       "      <td>1966</td>\n",
       "      <td>0</td>\n",
       "    </tr>\n",
       "    <tr>\n",
       "      <th>3</th>\n",
       "      <td>0.098255</td>\n",
       "      <td>3</td>\n",
       "      <td>2.25</td>\n",
       "      <td>0.338983</td>\n",
       "      <td>8030</td>\n",
       "      <td>1.0</td>\n",
       "      <td>4</td>\n",
       "      <td>1000</td>\n",
       "      <td>1000</td>\n",
       "      <td>1963</td>\n",
       "      <td>0</td>\n",
       "    </tr>\n",
       "    <tr>\n",
       "      <th>4</th>\n",
       "      <td>0.157943</td>\n",
       "      <td>4</td>\n",
       "      <td>2.50</td>\n",
       "      <td>0.322034</td>\n",
       "      <td>10500</td>\n",
       "      <td>1.0</td>\n",
       "      <td>4</td>\n",
       "      <td>1140</td>\n",
       "      <td>800</td>\n",
       "      <td>1976</td>\n",
       "      <td>1992</td>\n",
       "    </tr>\n",
       "  </tbody>\n",
       "</table>\n",
       "</div>"
      ],
      "text/plain": [
       "      price  bedrooms  bathrooms  sqft_living  sqft_lot  floors  condition  \\\n",
       "0  0.049128         3       1.50     0.152542      7912     1.5          3   \n",
       "1  1.000000         5       2.50     0.805085      9050     2.0          5   \n",
       "2  0.062443         3       2.00     0.319209     11947     1.0          4   \n",
       "3  0.098255         3       2.25     0.338983      8030     1.0          4   \n",
       "4  0.157943         4       2.50     0.322034     10500     1.0          4   \n",
       "\n",
       "   sqft_above  sqft_basement  yr_built  yr_renovated  \n",
       "0        1340              0      1955          2005  \n",
       "1        3370            280      1921             0  \n",
       "2        1930              0      1966             0  \n",
       "3        1000           1000      1963             0  \n",
       "4        1140            800      1976          1992  "
      ]
     },
     "execution_count": 5,
     "metadata": {},
     "output_type": "execute_result"
    }
   ],
   "source": [
    "df.head()"
   ]
  },
  {
   "cell_type": "code",
   "execution_count": 6,
   "id": "9861eb10",
   "metadata": {
    "scrolled": false
   },
   "outputs": [
    {
     "data": {
      "text/plain": [
       "Text(0, 0.5, 'price($)')"
      ]
     },
     "execution_count": 6,
     "metadata": {},
     "output_type": "execute_result"
    },
    {
     "data": {
      "image/png": "[encoded data removed]",
      "text/plain": [
       "<Figure size 432x288 with 1 Axes>"
      ]
     },
     "metadata": {
      "needs_background": "light"
     },
     "output_type": "display_data"
    }
   ],
   "source": [
    "plt.scatter(df.sqft_living,df['price'])\n",
    "plt.xlabel('sqft_living')\n",
    "plt.ylabel('price($)')"
   ]
  },
  {
   "cell_type": "code",
   "execution_count": 7,
   "id": "f43ac236",
   "metadata": {},
   "outputs": [
    {
     "name": "stdout",
     "output_type": "stream",
     "text": [
      "[0 1 0 0 0 0 0 1 1 0 0 1 1 0 1 0 0 1 0 0 1 0 0 1 0 0 1 1 1 1 0 1 0 1 1 1 0\n",
      " 0 0 1 0 0 0 0 0 0 0 0 0 1 1 1 1 0 0 0 0 1 0 0 1 1 1 1 1 0 0 0 1 0 1 1 1 0\n",
      " 0 0 1 1 1 1 0 1 1 0 1 0 0 0 0 0 1 1 1 1 0 1 0 1 0 1 1 0 0 1 0 1 0 1 0 0 0\n",
      " 0 0 1 0 0 0 0 1]\n",
      "______________________________________________________________________\n",
      "      price  bedrooms  bathrooms  sqft_living  sqft_lot  floors  condition  \\\n",
      "0  0.049128         3       1.50     0.152542      7912     1.5          3   \n",
      "1  1.000000         5       2.50     0.805085      9050     2.0          5   \n",
      "2  0.062443         3       2.00     0.319209     11947     1.0          4   \n",
      "3  0.098255         3       2.25     0.338983      8030     1.0          4   \n",
      "4  0.157943         4       2.50     0.322034     10500     1.0          4   \n",
      "\n",
      "   sqft_above  sqft_basement  yr_built  yr_renovated  cluster  \n",
      "0        1340              0      1955          2005        0  \n",
      "1        3370            280      1921             0        1  \n",
      "2        1930              0      1966             0        0  \n",
      "3        1000           1000      1963             0        0  \n",
      "4        1140            800      1976          1992        0  \n",
      "______________________________________________________________________\n",
      "[[0.21477359 0.10389225]\n",
      " [0.57170795 0.23353331]]\n",
      "______________________________________________________________________\n"
     ]
    },
    {
     "data": {
      "text/plain": [
       "Text(0.5, 1.0, '20BHI10028 - When K value is 2')"
      ]
     },
     "execution_count": 7,
     "metadata": {},
     "output_type": "execute_result"
    },
    {
     "data": {
      "image/png": "[encoded data removed]",
      "text/plain": [
       "<Figure size 432x288 with 1 Axes>"
      ]
     },
     "metadata": {
      "needs_background": "light"
     },
     "output_type": "display_data"
    }
   ],
   "source": [
    "km = KMeans(n_clusters=2)\n",
    "y_predicted = km.fit_predict(df[['sqft_living','price']])\n",
    "print(y_predicted)\n",
    "print(\"______________________________________________________________________\")\n",
    "\n",
    "df['cluster']=y_predicted\n",
    "print(df.head())\n",
    "print(\"______________________________________________________________________\")\n",
    "\n",
    "print(km.cluster_centers_)\n",
    "print(\"______________________________________________________________________\")\n",
    "\n",
    "df1 = df[df.cluster==0]\n",
    "df2 = df[df.cluster==1]\n",
    "\n",
    "plt.scatter(df1.sqft_living,df1['price'],color='green',label=\"Price\")\n",
    "plt.scatter(df2.sqft_living,df2['price'],color='red',label=\"Price\")\n",
    "\n",
    "plt.scatter(km.cluster_centers_[:,0],km.cluster_centers_[:,1],color='purple',marker=',',label='Cluster Center')\n",
    "plt.legend()\n",
    "\n",
    "plt.title(\"20BHI10028 - When K value is 2\")"
   ]
  },
  {
   "cell_type": "code",
   "execution_count": 8,
   "id": "9023ab12",
   "metadata": {},
   "outputs": [
    {
     "name": "stdout",
     "output_type": "stream",
     "text": [
      "[1 2 1 1 1 1 1 0 0 1 1 2 0 1 2 1 1 0 1 1 0 1 1 0 1 0 0 0 0 0 1 0 1 0 0 0 1\n",
      " 1 1 0 1 1 1 1 1 1 1 1 1 2 0 0 0 1 0 1 0 2 1 1 0 0 0 0 0 1 1 1 0 0 0 0 0 1\n",
      " 1 1 0 0 0 0 0 2 0 1 0 0 1 1 1 1 2 0 0 0 1 0 1 0 1 2 0 0 1 0 1 0 0 2 1 1 1\n",
      " 0 1 0 0 1 0 1 2]\n",
      "______________________________________________________________________\n",
      "      price  bedrooms  bathrooms  sqft_living  sqft_lot  floors  condition  \\\n",
      "0  0.049128         3       1.50     0.152542      7912     1.5          3   \n",
      "1  1.000000         5       2.50     0.805085      9050     2.0          5   \n",
      "2  0.062443         3       2.00     0.319209     11947     1.0          4   \n",
      "3  0.098255         3       2.25     0.338983      8030     1.0          4   \n",
      "4  0.157943         4       2.50     0.322034     10500     1.0          4   \n",
      "\n",
      "   sqft_above  sqft_basement  yr_built  yr_renovated  cluster  \n",
      "0        1340              0      1955          2005        1  \n",
      "1        3370            280      1921             0        2  \n",
      "2        1930              0      1966             0        1  \n",
      "3        1000           1000      1963             0        1  \n",
      "4        1140            800      1976          1992        1  \n",
      "______________________________________________________________________\n",
      "[[0.49568276 0.16990993]\n",
      " [0.18321227 0.10058688]\n",
      " [0.75875706 0.44664215]]\n",
      "______________________________________________________________________\n"
     ]
    },
    {
     "data": {
      "text/plain": [
       "Text(0.5, 1.0, '20BHI10028 - When K value is 3')"
      ]
     },
     "execution_count": 8,
     "metadata": {},
     "output_type": "execute_result"
    },
    {
     "data": {
      "image/png": "[encoded data removed]",
      "text/plain": [
       "<Figure size 432x288 with 1 Axes>"
      ]
     },
     "metadata": {
      "needs_background": "light"
     },
     "output_type": "display_data"
    }
   ],
   "source": [
    "km = KMeans(n_clusters=3)\n",
    "y_predicted = km.fit_predict(df[['sqft_living','price']])\n",
    "print(y_predicted)\n",
    "print(\"______________________________________________________________________\")\n",
    "\n",
    "df['cluster']=y_predicted\n",
    "print(df.head())\n",
    "print(\"______________________________________________________________________\")\n",
    "\n",
    "print(km.cluster_centers_)\n",
    "print(\"______________________________________________________________________\")\n",
    "\n",
    "df1 = df[df.cluster==0]\n",
    "df2 = df[df.cluster==1]\n",
    "df3 = df[df.cluster==2]\n",
    "\n",
    "plt.scatter(df1.sqft_living,df1['price'],color='green',label=\"Price\")\n",
    "plt.scatter(df2.sqft_living,df2['price'],color='red',label=\"Price\")\n",
    "plt.scatter(df3.sqft_living,df3['price'],color='black',label=\"Price\")\n",
    "\n",
    "plt.scatter(km.cluster_centers_[:,0],km.cluster_centers_[:,1],color='purple',marker=',',label='Cluster Center')\n",
    "plt.legend()\n",
    "\n",
    "plt.title(\"20BHI10028 - When K value is 3\")"
   ]
  },
  {
   "cell_type": "code",
   "execution_count": 9,
   "id": "be18fd63",
   "metadata": {},
   "outputs": [
    {
     "name": "stdout",
     "output_type": "stream",
     "text": [
      "[1 2 0 0 0 1 1 3 0 1 0 2 0 1 3 1 1 3 1 1 0 1 0 3 1 0 0 0 3 3 1 3 0 3 3 3 1\n",
      " 0 0 0 1 1 1 0 1 1 0 0 1 3 3 3 3 0 0 0 0 3 1 1 3 3 3 0 3 1 1 1 3 0 0 3 0 0\n",
      " 1 1 0 3 0 3 0 3 3 0 0 0 1 1 1 1 3 0 3 0 1 3 0 3 1 2 3 0 1 0 0 3 0 2 1 1 1\n",
      " 0 1 3 0 1 0 1 3]\n",
      "______________________________________________________________________\n",
      "      price  bedrooms  bathrooms  sqft_living  sqft_lot  floors  condition  \\\n",
      "0  0.049128         3       1.50     0.152542      7912     1.5          3   \n",
      "1  1.000000         5       2.50     0.805085      9050     2.0          5   \n",
      "2  0.062443         3       2.00     0.319209     11947     1.0          4   \n",
      "3  0.098255         3       2.25     0.338983      8030     1.0          4   \n",
      "4  0.157943         4       2.50     0.322034     10500     1.0          4   \n",
      "\n",
      "   sqft_above  sqft_basement  yr_built  yr_renovated  cluster  \n",
      "0        1340              0      1955          2005        1  \n",
      "1        3370            280      1921             0        2  \n",
      "2        1930              0      1966             0        0  \n",
      "3        1000           1000      1963             0        0  \n",
      "4        1140            800      1976          1992        0  \n",
      "______________________________________________________________________\n",
      "[[0.36394692 0.13932453]\n",
      " [0.13291323 0.09365485]\n",
      " [0.82768362 0.625     ]\n",
      " [0.60529019 0.21093996]]\n",
      "______________________________________________________________________\n"
     ]
    },
    {
     "data": {
      "text/plain": [
       "Text(0.5, 1.0, '20BHI10028 - When K value is 4')"
      ]
     },
     "execution_count": 9,
     "metadata": {},
     "output_type": "execute_result"
    },
    {
     "data": {
      "image/png": "[encoded data removed]",
      "text/plain": [
       "<Figure size 432x288 with 1 Axes>"
      ]
     },
     "metadata": {
      "needs_background": "light"
     },
     "output_type": "display_data"
    }
   ],
   "source": [
    "km = KMeans(n_clusters=4)\n",
    "y_predicted = km.fit_predict(df[['sqft_living','price']])\n",
    "print(y_predicted)\n",
    "print(\"______________________________________________________________________\")\n",
    "\n",
    "df['cluster']=y_predicted\n",
    "print(df.head())\n",
    "print(\"______________________________________________________________________\")\n",
    "\n",
    "print(km.cluster_centers_)\n",
    "print(\"______________________________________________________________________\")\n",
    "\n",
    "df1 = df[df.cluster==0]\n",
    "df2 = df[df.cluster==1]\n",
    "df3 = df[df.cluster==2]\n",
    "df4 = df[df.cluster==3]\n",
    "\n",
    "plt.scatter(df1.sqft_living,df1['price'],color='green',label=\"Price\")\n",
    "plt.scatter(df2.sqft_living,df2['price'],color='red',label=\"Price\")\n",
    "plt.scatter(df3.sqft_living,df3['price'],color='black',label=\"Price\")\n",
    "plt.scatter(df4.sqft_living,df4['price'],color='pink',label=\"Price\")\n",
    "\n",
    "\n",
    "plt.scatter(km.cluster_centers_[:,0],km.cluster_centers_[:,1],color='purple',marker=',',label='Cluster Center')\n",
    "plt.legend()\n",
    "\n",
    "plt.title(\"20BHI10028 - When K value is 4\")"
   ]
  },
  {
   "cell_type": "code",
   "execution_count": 10,
   "id": "046ea257",
   "metadata": {},
   "outputs": [
    {
     "name": "stdout",
     "output_type": "stream",
     "text": [
      "[1 3 0 0 0 1 1 2 0 1 0 4 0 1 4 1 1 2 1 1 0 1 0 2 1 0 0 0 2 2 1 2 0 2 2 2 1\n",
      " 0 0 0 1 1 1 0 1 1 0 0 1 4 2 2 2 0 0 0 0 4 1 1 2 2 2 0 2 1 1 1 2 0 0 2 0 0\n",
      " 1 1 0 2 0 2 0 4 2 0 0 0 1 1 1 1 2 0 2 0 1 2 0 2 1 4 2 0 1 0 0 2 0 4 1 1 1\n",
      " 0 1 2 0 1 0 1 4]\n",
      "______________________________________________________________________\n",
      "      price  bedrooms  bathrooms  sqft_living  sqft_lot  floors  condition  \\\n",
      "0  0.049128         3       1.50     0.152542      7912     1.5          3   \n",
      "1  1.000000         5       2.50     0.805085      9050     2.0          5   \n",
      "2  0.062443         3       2.00     0.319209     11947     1.0          4   \n",
      "3  0.098255         3       2.25     0.338983      8030     1.0          4   \n",
      "4  0.157943         4       2.50     0.322034     10500     1.0          4   \n",
      "\n",
      "   sqft_above  sqft_basement  yr_built  yr_renovated  cluster  \n",
      "0        1340              0      1955          2005        1  \n",
      "1        3370            280      1921             0        3  \n",
      "2        1930              0      1966             0        0  \n",
      "3        1000           1000      1963             0        0  \n",
      "4        1140            800      1976          1992        0  \n",
      "______________________________________________________________________\n",
      "[[0.36394692 0.13932453]\n",
      " [0.13291323 0.09365485]\n",
      " [0.58464487 0.18813294]\n",
      " [0.80508475 1.        ]\n",
      " [0.76377119 0.39916208]]\n",
      "______________________________________________________________________\n"
     ]
    },
    {
     "data": {
      "text/plain": [
       "Text(0.5, 1.0, '20BHI10028 - When K value is 5')"
      ]
     },
     "execution_count": 10,
     "metadata": {},
     "output_type": "execute_result"
    },
    {
     "data": {
      "image/png": "[encoded data removed]",
      "text/plain": [
       "<Figure size 432x288 with 1 Axes>"
      ]
     },
     "metadata": {
      "needs_background": "light"
     },
     "output_type": "display_data"
    }
   ],
   "source": [
    "km = KMeans(n_clusters=5)\n",
    "y_predicted = km.fit_predict(df[['sqft_living','price']])\n",
    "print(y_predicted)\n",
    "print(\"______________________________________________________________________\")\n",
    "\n",
    "df['cluster']=y_predicted\n",
    "print(df.head())\n",
    "print(\"______________________________________________________________________\")\n",
    "\n",
    "print(km.cluster_centers_)\n",
    "print(\"______________________________________________________________________\")\n",
    "\n",
    "df1 = df[df.cluster==0]\n",
    "df2 = df[df.cluster==1]\n",
    "df3 = df[df.cluster==2]\n",
    "df4 = df[df.cluster==3]\n",
    "df5 = df[df.cluster==4]\n",
    "\n",
    "plt.scatter(df1.sqft_living,df1['price'],color='pink',label=\"Price\")\n",
    "plt.scatter(df2.sqft_living,df2['price'],color='brown',label=\"Price\")\n",
    "plt.scatter(df3.sqft_living,df3['price'],color='black',label=\"Price\")\n",
    "plt.scatter(df4.sqft_living,df4['price'],color='red',label=\"Price\")\n",
    "plt.scatter(df5.sqft_living,df5['price'],color='green',label=\"Price\")\n",
    "\n",
    "\n",
    "plt.scatter(km.cluster_centers_[:,0],km.cluster_centers_[:,1],color='purple',marker=',',label='Cluster Center')\n",
    "plt.legend()\n",
    "\n",
    "plt.title(\"20BHI10028 - When K value is 5\")"
   ]
  },
  {
   "cell_type": "code",
   "execution_count": 11,
   "id": "1fb69538",
   "metadata": {
    "scrolled": true
   },
   "outputs": [
    {
     "name": "stdout",
     "output_type": "stream",
     "text": [
      "[1 5 4 4 4 1 1 0 0 4 4 2 0 1 2 1 4 2 1 1 0 4 4 2 4 0 0 0 2 2 4 2 4 2 2 2 1\n",
      " 4 4 0 4 1 1 4 1 1 4 4 1 2 2 2 2 4 0 4 0 3 1 4 2 0 2 0 2 1 4 1 2 0 0 2 0 4\n",
      " 4 1 0 2 0 0 4 3 0 4 0 0 1 4 1 1 2 0 2 0 4 2 4 2 1 3 2 4 4 0 4 2 0 3 1 1 4\n",
      " 0 1 0 0 1 0 1 2]\n",
      "______________________________________________________________________\n",
      "      price  bedrooms  bathrooms  sqft_living  sqft_lot  floors  condition  \\\n",
      "0  0.049128         3       1.50     0.152542      7912     1.5          3   \n",
      "1  1.000000         5       2.50     0.805085      9050     2.0          5   \n",
      "2  0.062443         3       2.00     0.319209     11947     1.0          4   \n",
      "3  0.098255         3       2.25     0.338983      8030     1.0          4   \n",
      "4  0.157943         4       2.50     0.322034     10500     1.0          4   \n",
      "\n",
      "   sqft_above  sqft_basement  yr_built  yr_renovated  cluster  \n",
      "0        1340              0      1955          2005        1  \n",
      "1        3370            280      1921             0        5  \n",
      "2        1930              0      1966             0        4  \n",
      "3        1000           1000      1963             0        4  \n",
      "4        1140            800      1976          1992        4  \n",
      "______________________________________________________________________\n",
      "[[0.42859926 0.15315234]\n",
      " [0.09887006 0.06646447]\n",
      " [0.60797238 0.22776317]\n",
      " [0.88276836 0.38005051]\n",
      " [0.26147599 0.13328785]\n",
      " [0.80508475 1.        ]]\n",
      "______________________________________________________________________\n"
     ]
    },
    {
     "data": {
      "text/plain": [
       "Text(0.5, 1.0, '20BHI10028 - When K value is 6')"
      ]
     },
     "execution_count": 11,
     "metadata": {},
     "output_type": "execute_result"
    },
    {
     "data": {
      "image/png": "[encoded data removed]",
      "text/plain": [
       "<Figure size 432x288 with 1 Axes>"
      ]
     },
     "metadata": {
      "needs_background": "light"
     },
     "output_type": "display_data"
    }
   ],
   "source": [
    "km = KMeans(n_clusters=6)\n",
    "y_predicted = km.fit_predict(df[['sqft_living','price']])\n",
    "print(y_predicted)\n",
    "print(\"______________________________________________________________________\")\n",
    "\n",
    "df['cluster']=y_predicted\n",
    "print(df.head())\n",
    "print(\"______________________________________________________________________\")\n",
    "\n",
    "print(km.cluster_centers_)\n",
    "print(\"______________________________________________________________________\")\n",
    "\n",
    "df1 = df[df.cluster==0]\n",
    "df2 = df[df.cluster==1]\n",
    "df3 = df[df.cluster==2]\n",
    "df4 = df[df.cluster==3]\n",
    "df5 = df[df.cluster==4]\n",
    "df6 = df[df.cluster==5]\n",
    "\n",
    "plt.scatter(df1.sqft_living,df1['price'],color='pink',label=\"Price\")\n",
    "plt.scatter(df2.sqft_living,df2['price'],color='brown',label=\"Price\")\n",
    "plt.scatter(df3.sqft_living,df3['price'],color='black',label=\"Price\")\n",
    "plt.scatter(df4.sqft_living,df4['price'],color='red',label=\"Price\")\n",
    "plt.scatter(df5.sqft_living,df5['price'],color='green',label=\"Price\")\n",
    "plt.scatter(df6.sqft_living,df6['price'],color='yellow',label=\"Price\")\n",
    "\n",
    "\n",
    "plt.scatter(km.cluster_centers_[:,0],km.cluster_centers_[:,1],color='purple',marker=',',label='Cluster Center')\n",
    "plt.legend()\n",
    "\n",
    "plt.title(\"20BHI10028 - When K value is 6\")"
   ]
  },
  {
   "cell_type": "code",
   "execution_count": 12,
   "id": "29bec5b8",
   "metadata": {},
   "outputs": [
    {
     "name": "stdout",
     "output_type": "stream",
     "text": [
      "[3 2 6 6 6 3 3 0 6 1 1 5 4 3 5 3 1 0 3 3 4 1 1 0 1 6 4 4 0 4 1 0 1 0 0 0 3\n",
      " 6 6 4 1 3 3 1 3 3 6 6 3 5 0 0 4 6 6 6 6 5 3 1 0 0 0 6 0 3 1 3 4 6 6 0 4 6\n",
      " 1 1 4 4 4 4 6 5 4 1 6 6 3 1 1 3 0 4 0 4 1 0 1 0 1 5 0 6 1 6 6 0 6 5 3 3 1\n",
      " 6 3 4 4 3 6 3 5]\n",
      "______________________________________________________________________\n",
      "      price  bedrooms  bathrooms  sqft_living  sqft_lot  floors  condition  \\\n",
      "0  0.049128         3       1.50     0.152542      7912     1.5          3   \n",
      "1  1.000000         5       2.50     0.805085      9050     2.0          5   \n",
      "2  0.062443         3       2.00     0.319209     11947     1.0          4   \n",
      "3  0.098255         3       2.25     0.338983      8030     1.0          4   \n",
      "4  0.157943         4       2.50     0.322034     10500     1.0          4   \n",
      "\n",
      "   sqft_above  sqft_basement  yr_built  yr_renovated  cluster  \n",
      "0        1340              0      1955          2005        3  \n",
      "1        3370            280      1921             0        2  \n",
      "2        1930              0      1966             0        6  \n",
      "3        1000           1000      1963             0        6  \n",
      "4        1140            800      1976          1992        6  \n",
      "______________________________________________________________________\n",
      "[[0.6086898  0.17389984]\n",
      " [0.21404725 0.14480612]\n",
      " [0.80508475 1.        ]\n",
      " [0.09100958 0.06067892]\n",
      " [0.44742624 0.23030221]\n",
      " [0.76377119 0.39916208]\n",
      " [0.36788353 0.09740499]]\n",
      "______________________________________________________________________\n"
     ]
    },
    {
     "data": {
      "text/plain": [
       "Text(0.5, 1.0, '20BHI10028 - When K value is 6')"
      ]
     },
     "execution_count": 12,
     "metadata": {},
     "output_type": "execute_result"
    },
    {
     "data": {
      "image/png": "[encoded data removed]",
      "text/plain": [
       "<Figure size 432x288 with 1 Axes>"
      ]
     },
     "metadata": {
      "needs_background": "light"
     },
     "output_type": "display_data"
    }
   ],
   "source": [
    "km = KMeans(n_clusters=7)\n",
    "y_predicted = km.fit_predict(df[['sqft_living','price']])\n",
    "print(y_predicted)\n",
    "print(\"______________________________________________________________________\")\n",
    "\n",
    "df['cluster']=y_predicted\n",
    "print(df.head())\n",
    "print(\"______________________________________________________________________\")\n",
    "\n",
    "print(km.cluster_centers_)\n",
    "print(\"______________________________________________________________________\")\n",
    "\n",
    "df1 = df[df.cluster==0]\n",
    "df2 = df[df.cluster==1]\n",
    "df3 = df[df.cluster==2]\n",
    "df4 = df[df.cluster==3]\n",
    "df5 = df[df.cluster==4]\n",
    "df6 = df[df.cluster==5]\n",
    "df7 = df[df.cluster==6]\n",
    "\n",
    "plt.scatter(df1.sqft_living,df1['price'],color='pink',label=\"Price\")\n",
    "plt.scatter(df2.sqft_living,df2['price'],color='brown',label=\"Price\")\n",
    "plt.scatter(df3.sqft_living,df3['price'],color='black',label=\"Price\")\n",
    "plt.scatter(df4.sqft_living,df4['price'],color='red',label=\"Price\")\n",
    "plt.scatter(df5.sqft_living,df5['price'],color='green',label=\"Price\")\n",
    "plt.scatter(df6.sqft_living,df6['price'],color='yellow',label=\"Price\")\n",
    "plt.scatter(df7.sqft_living,df7['price'],color='orange',label=\"Price\")\n",
    "\n",
    "\n",
    "plt.scatter(km.cluster_centers_[:,0],km.cluster_centers_[:,1],color='purple',marker=',',label='Cluster Center')\n",
    "plt.legend()\n",
    "\n",
    "plt.title(\"20BHI10028 - When K value is 6\")"
   ]
  },
  {
   "cell_type": "code",
   "execution_count": 16,
   "id": "b1786422",
   "metadata": {},
   "outputs": [
    {
     "name": "stderr",
     "output_type": "stream",
     "text": [
      "C:\\ProgramData\\Anaconda3\\lib\\site-packages\\sklearn\\cluster\\_kmeans.py:1039: UserWarning: KMeans is known to have a memory leak on Windows with MKL, when there are less chunks than available threads. You can avoid it by setting the environment variable OMP_NUM_THREADS=1.\n",
      "  warnings.warn(\n"
     ]
    }
   ],
   "source": [
    "#Elbow Plot\n",
    "\n",
    "sse = []\n",
    "k_rng = range(1,15)\n",
    "for k in k_rng:\n",
    "    km = KMeans(n_clusters=k)\n",
    "    km.fit(df[['sqft_living','price']])\n",
    "    sse.append(km.inertia_)\n",
    "    "
   ]
  },
  {
   "cell_type": "code",
   "execution_count": 17,
   "id": "63a48405",
   "metadata": {
    "scrolled": true
   },
   "outputs": [
    {
     "data": {
      "text/plain": [
       "Text(0.5, 1.0, '20BHI10028 - Elbow Plot for K = 2 to 14')"
      ]
     },
     "execution_count": 17,
     "metadata": {},
     "output_type": "execute_result"
    },
    {
     "data": {
      "image/png": "[encoded data removed]",
      "text/plain": [
       "<Figure size 432x288 with 1 Axes>"
      ]
     },
     "metadata": {
      "needs_background": "light"
     },
     "output_type": "display_data"
    }
   ],
   "source": [
    "plt.xlabel('K')\n",
    "plt.ylabel('Sum of squared error')\n",
    "plt.plot(k_rng,sse)\n",
    "plt.title(\"20BHI10028 - Elbow Plot for K = 2 to 14\")"
   ]
  }
 ],
 "metadata": {
  "kernelspec": {
   "display_name": "Python 3 (ipykernel)",
   "language": "python",
   "name": "python3"
  },
  "language_info": {
   "codemirror_mode": {
    "name": "ipython",
    "version": 3
   },
   "file_extension": ".py",
   "mimetype": "text/x-python",
   "name": "python",
   "nbconvert_exporter": "python",
   "pygments_lexer": "ipython3",
   "version": "3.8.8"
  }
 },
 "nbformat": 4,
 "nbformat_minor": 5
}
