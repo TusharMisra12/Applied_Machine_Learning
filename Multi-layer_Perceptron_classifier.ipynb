{
 "cells": [
  {
   "cell_type": "code",
   "execution_count": 15,
   "id": "18298538",
   "metadata": {},
   "outputs": [
    {
     "data": {
      "image/png": "[encoded data removed]",
      "text/plain": [
       "<Figure size 432x288 with 1 Axes>"
      ]
     },
     "metadata": {
      "needs_background": "light"
     },
     "output_type": "display_data"
    }
   ],
   "source": [
    "#20BHI10028 - TUSHAR MISRA\n",
    "import matplotlib.pyplot as plt\n",
    "from sklearn.datasets import make_blobs\n",
    "\n",
    "n_samples = 200\n",
    "blob_centers = ([1, 1], [3, 4], [1, 3.3], [3.5, 1.8])\n",
    "data, labels = make_blobs(n_samples=n_samples, \n",
    "                          centers=blob_centers, \n",
    "                          cluster_std=0.5,\n",
    "                          random_state=0)\n",
    "\n",
    "\n",
    "colours = ('green', 'orange', \"blue\", \"magenta\")\n",
    "fig, ax = plt.subplots()\n",
    "\n",
    "for n_class in range(len(blob_centers)):\n",
    "    ax.scatter(data[labels==n_class][:, 0], \n",
    "               data[labels==n_class][:, 1], \n",
    "               c=colours[n_class], \n",
    "               s=30, \n",
    "               label=str(n_class))"
   ]
  },
  {
   "cell_type": "code",
   "execution_count": 16,
   "id": "2151bc95",
   "metadata": {},
   "outputs": [],
   "source": [
    "from sklearn.model_selection import train_test_split\n",
    "datasets = train_test_split(data, \n",
    "                            labels,\n",
    "                            test_size=0.2)\n",
    "\n",
    "train_data, test_data, train_labels, test_labels = datasets"
   ]
  },
  {
   "cell_type": "code",
   "execution_count": 17,
   "id": "f2a71c3b",
   "metadata": {},
   "outputs": [
    {
     "name": "stderr",
     "output_type": "stream",
     "text": [
      "C:\\ProgramData\\Anaconda3\\lib\\site-packages\\sklearn\\neural_network\\_multilayer_perceptron.py:549: ConvergenceWarning: lbfgs failed to converge (status=1):\n",
      "STOP: TOTAL NO. of ITERATIONS REACHED LIMIT.\n",
      "\n",
      "Increase the number of iterations (max_iter) or scale the data as shown in:\n",
      "    https://scikit-learn.org/stable/modules/preprocessing.html\n",
      "  self.n_iter_ = _check_optimize_result(\"lbfgs\", opt_res, self.max_iter)\n"
     ]
    },
    {
     "data": {
      "text/plain": [
       "MLPClassifier(alpha=1e-05, hidden_layer_sizes=(6,), random_state=1,\n",
       "              solver='lbfgs')"
      ]
     },
     "execution_count": 17,
     "metadata": {},
     "output_type": "execute_result"
    }
   ],
   "source": [
    "from sklearn.neural_network import MLPClassifier\n",
    "\n",
    "clf = MLPClassifier(solver='lbfgs', \n",
    "                    alpha=1e-5,\n",
    "                    hidden_layer_sizes=(6,), \n",
    "                    random_state=1)\n",
    "\n",
    "clf.fit(train_data, train_labels)    "
   ]
  },
  {
   "cell_type": "code",
   "execution_count": 18,
   "id": "7fa1f1d5",
   "metadata": {},
   "outputs": [
    {
     "data": {
      "text/plain": [
       "0.99375"
      ]
     },
     "execution_count": 18,
     "metadata": {},
     "output_type": "execute_result"
    }
   ],
   "source": [
    "clf.score(train_data, train_labels)\n"
   ]
  },
  {
   "cell_type": "code",
   "execution_count": 19,
   "id": "856d1398",
   "metadata": {},
   "outputs": [
    {
     "name": "stdout",
     "output_type": "stream",
     "text": [
      "score on train data:  0.99375\n",
      "score on test data:  0.975\n"
     ]
    }
   ],
   "source": [
    "from sklearn.metrics import accuracy_score\n",
    "\n",
    "predictions_train = clf.predict(train_data)\n",
    "predictions_test = clf.predict(test_data)\n",
    "train_score = accuracy_score(predictions_train, train_labels)\n",
    "print(\"score on train data: \", train_score)\n",
    "test_score = accuracy_score(predictions_test, test_labels)\n",
    "print(\"score on test data: \", test_score)"
   ]
  },
  {
   "cell_type": "code",
   "execution_count": 20,
   "id": "5d4029d9",
   "metadata": {},
   "outputs": [
    {
     "data": {
      "text/plain": [
       "array([0, 1, 0, 3, 3, 3, 3, 2, 3, 0, 3, 1, 1, 0, 1, 0, 0, 3, 0, 2])"
      ]
     },
     "execution_count": 20,
     "metadata": {},
     "output_type": "execute_result"
    }
   ],
   "source": [
    "predictions_train[:20]"
   ]
  },
  {
   "cell_type": "code",
   "execution_count": 21,
   "id": "a7b1e207",
   "metadata": {},
   "outputs": [
    {
     "name": "stdout",
     "output_type": "stream",
     "text": [
      "MLPClassifier(alpha=1e-05, hidden_layer_sizes=(5, 2), random_state=1,\n",
      "              solver='lbfgs')\n"
     ]
    }
   ],
   "source": [
    "from sklearn.neural_network import MLPClassifier\n",
    "X = [[0., 0.], [0., 1.], [1., 0.], [1., 1.]]\n",
    "y = [0, 0, 0, 1]\n",
    "clf = MLPClassifier(solver='lbfgs', alpha=1e-5,\n",
    "                    hidden_layer_sizes=(5, 2), random_state=1)\n",
    "\n",
    "print(clf.fit(X, y))  "
   ]
  },
  {
   "cell_type": "code",
   "execution_count": 22,
   "id": "f9d37d5b",
   "metadata": {},
   "outputs": [
    {
     "name": "stdout",
     "output_type": "stream",
     "text": [
      "weights between input and first hidden layer:\n",
      "[[-0.14203691 -1.18304359 -0.85567518 -4.53250719 -0.60466275]\n",
      " [-0.69781111 -3.5850093  -0.26436018 -4.39161248  0.06644423]]\n",
      "\n",
      "weights between first hidden and second hidden layer:\n",
      "[[ 0.29179638 -0.14155284]\n",
      " [ 4.02666592 -0.61556475]\n",
      " [-0.51677234  0.51479708]\n",
      " [ 7.37215202 -0.31936965]\n",
      " [ 0.32920668  0.64428109]]\n"
     ]
    }
   ],
   "source": [
    "print(\"weights between input and first hidden layer:\")\n",
    "print(clf.coefs_[0])\n",
    "print(\"\\nweights between first hidden and second hidden layer:\")\n",
    "print(clf.coefs_[1])"
   ]
  },
  {
   "cell_type": "code",
   "execution_count": 23,
   "id": "261678da",
   "metadata": {},
   "outputs": [
    {
     "name": "stdout",
     "output_type": "stream",
     "text": [
      "w0 =  -0.1420369126782716\n",
      "w1 =  -0.6978111149778672\n"
     ]
    }
   ],
   "source": [
    "print(\"w0 = \", clf.coefs_[0][0][0])\n",
    "print(\"w1 = \", clf.coefs_[0][1][0])"
   ]
  },
  {
   "cell_type": "code",
   "execution_count": 24,
   "id": "e0c3d4f7",
   "metadata": {},
   "outputs": [
    {
     "name": "stdout",
     "output_type": "stream",
     "text": [
      "0 0 [-0.14203691 -0.69781111], \n",
      "0 1 [-1.18304359 -3.5850093 ], \n",
      "0 2 [-0.85567518 -0.26436018], \n",
      "0 3 [-4.53250719 -4.39161248], \n",
      "0 4 [-0.60466275  0.06644423], \n",
      "\n",
      "1 0 [ 0.29179638  4.02666592 -0.51677234  7.37215202  0.32920668], \n",
      "1 1 [-0.14155284 -0.61556475  0.51479708 -0.31936965  0.64428109], \n",
      "\n",
      "2 0 [-4.96774269 -0.86330397], \n",
      "\n"
     ]
    }
   ],
   "source": [
    "for i in range(len(clf.coefs_)):\n",
    "    number_neurons_in_layer = clf.coefs_[i].shape[1]\n",
    "    for j in range(number_neurons_in_layer):\n",
    "        weights = clf.coefs_[i][:,j]\n",
    "        print(i, j, weights, end=\", \")\n",
    "        print()\n",
    "    print()"
   ]
  },
  {
   "cell_type": "code",
   "execution_count": 25,
   "id": "30ad4634",
   "metadata": {},
   "outputs": [
    {
     "name": "stdout",
     "output_type": "stream",
     "text": [
      "Bias values for first hidden layer:\n",
      "[-0.14962269 -0.59232707 -0.5472481   7.02667699 -0.87510813]\n",
      "\n",
      "Bias values for second hidden layer:\n",
      "[-3.61417672 -0.76834882]\n"
     ]
    }
   ],
   "source": [
    "print(\"Bias values for first hidden layer:\")\n",
    "print(clf.intercepts_[0])\n",
    "print(\"\\nBias values for second hidden layer:\")\n",
    "print(clf.intercepts_[1])"
   ]
  },
  {
   "cell_type": "code",
   "execution_count": 26,
   "id": "4f560a41",
   "metadata": {},
   "outputs": [],
   "source": [
    "result = clf.predict([[0, 0], [0, 1], \n",
    "                      [1, 0], [0, 1], \n",
    "                      [1, 1], [2., 2.],\n",
    "                      [1.3, 1.3], [2, 4.8]])"
   ]
  },
  {
   "cell_type": "code",
   "execution_count": 27,
   "id": "ea819c13",
   "metadata": {},
   "outputs": [
    {
     "name": "stdout",
     "output_type": "stream",
     "text": [
      "[[1.00000000e+000 5.25723951e-101]\n",
      " [1.00000000e+000 3.71534882e-031]\n",
      " [1.00000000e+000 6.47069178e-029]\n",
      " [1.00000000e+000 3.71534882e-031]\n",
      " [2.07145538e-004 9.99792854e-001]\n",
      " [2.07145538e-004 9.99792854e-001]\n",
      " [2.07145538e-004 9.99792854e-001]\n",
      " [2.07145538e-004 9.99792854e-001]]\n"
     ]
    }
   ],
   "source": [
    "prob_results = clf.predict_proba([[0, 0], [0, 1], \n",
    "                                  [1, 0], [0, 1], \n",
    "                                  [1, 1], [2., 2.], \n",
    "                                  [1.3, 1.3], [2, 4.8]])\n",
    "print(prob_results)"
   ]
  },
  {
   "cell_type": "code",
   "execution_count": null,
   "id": "aa3db7aa",
   "metadata": {},
   "outputs": [],
   "source": []
  }
 ],
 "metadata": {
  "kernelspec": {
   "display_name": "Python 3 (ipykernel)",
   "language": "python",
   "name": "python3"
  },
  "language_info": {
   "codemirror_mode": {
    "name": "ipython",
    "version": 3
   },
   "file_extension": ".py",
   "mimetype": "text/x-python",
   "name": "python",
   "nbconvert_exporter": "python",
   "pygments_lexer": "ipython3",
   "version": "3.8.8"
  }
 },
 "nbformat": 4,
 "nbformat_minor": 5
}
